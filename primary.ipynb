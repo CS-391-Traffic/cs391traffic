{
 "cells": [
  {
   "cell_type": "code",
   "execution_count": 2,
   "metadata": {},
   "outputs": [],
   "source": [
    "#CS391Project\n",
    "#Charlie, Ben, Jenna"
   ]
  },
  {
   "cell_type": "code",
   "execution_count": 3,
   "metadata": {},
   "outputs": [],
   "source": [
    "import pandas as pd\n",
    "import datetime as dt\n",
    "from sklearn.cross_validation import train_test_split\n",
    "from sklearn.ensemble import RandomForestClassifier\n",
    "from sklearn.metrics import accuracy_score\n",
    "from sklearn import metrics \n",
    "from sklearn.linear_model import LogisticRegression\n",
    "from sklearn import model_selection\n",
    "from sklearn.model_selection import cross_val_score\n",
    "from sklearn.metrics import classification_report\n",
    "from sklearn.metrics import confusion_matrix\n",
    "from sklearn.neural_network import MLPClassifier\n",
    "from sklearn.preprocessing import StandardScaler\n",
    "import statsmodels.api as sm\n",
    "from sklearn.naive_bayes import BernoulliNB\n",
    "from sklearn.naive_bayes import GaussianNB\n",
    "import seaborn as sns\n",
    "from sklearn.linear_model import LinearRegression\n",
    "import matplotlib.pyplot as plt \n",
    "from sklearn.model_selection import GridSearchCV"
   ]
  },
  {
   "cell_type": "code",
   "execution_count": 4,
   "metadata": {},
   "outputs": [],
   "source": [
    "#Reading in CSV Files\n",
    "df = pd.read_csv('crashWeather.csv')"
   ]
  },
  {
   "cell_type": "code",
   "execution_count": 5,
   "metadata": {},
   "outputs": [],
   "source": [
    "#Training and Splitting Data\n",
    "X = df[['Air Temp (℉)', 'Precip (inches)', 'Wind Spd (mph)', 'RH (%)', 'Leaf Wetness (minutes)', 'hours']]\n",
    "Y = df['crashOccur']\n",
    "\n",
    "Xl = df[['Air Temp (℉)']]\n",
    "Yl = df['date']\n",
    "\n",
    "X_train, X_test, y_train, y_test = train_test_split(X, Y, test_size=0.3)\n",
    "kfold = model_selection.KFold(n_splits=10, random_state=7)\n",
    "scoring = 'accuracy'"
   ]
  },
  {
   "cell_type": "code",
   "execution_count": 6,
   "metadata": {},
   "outputs": [
    {
     "name": "stdout",
     "output_type": "stream",
     "text": [
      "Accuracy of Forest: 0.6841704718417048\n",
      "10-fold cross validation average accuracy: 0.678\n",
      "             precision    recall  f1-score   support\n",
      "\n",
      "          0       0.54      0.54      0.54       906\n",
      "          1       0.76      0.76      0.76      1722\n",
      "\n",
      "avg / total       0.68      0.68      0.68      2628\n",
      "\n",
      "[[ 487  419]\n",
      " [ 411 1311]]\n",
      "                        importance\n",
      "Air Temp (℉)              0.292816\n",
      "hours                     0.249154\n",
      "Wind Spd (mph)            0.214343\n",
      "RH (%)                    0.202595\n",
      "Leaf Wetness (minutes)    0.024747\n",
      "Precip (inches)           0.016345\n"
     ]
    }
   ],
   "source": [
    "#Random Forest Classifier \n",
    "clf=RandomForestClassifier()\n",
    "clf.fit(X_train,y_train)\n",
    "y_pred=clf.predict(X_test)\n",
    "print(\"Accuracy of Forest:\",metrics.accuracy_score(y_test, y_pred))\n",
    "feature_importances = pd.DataFrame(clf.feature_importances_, index = X_train.columns, columns=['importance']).sort_values('importance', ascending=False)\n",
    "cvForest = model_selection.cross_val_score(RandomForestClassifier(), X_train, y_train, cv=kfold, scoring=scoring)\n",
    "print(\"10-fold cross validation average accuracy: %.3f\" % (cvForest.mean()))\n",
    "print(classification_report(y_test, y_pred))\n",
    "\n",
    "print(confusion_matrix(y_test, y_pred))\n",
    "print(feature_importances)"
   ]
  },
  {
   "cell_type": "code",
   "execution_count": 7,
   "metadata": {},
   "outputs": [
    {
     "name": "stdout",
     "output_type": "stream",
     "text": [
      "Optimization terminated successfully.\n",
      "         Current function value: 0.612314\n",
      "         Iterations 6\n",
      "                           Logit Regression Results                           \n",
      "==============================================================================\n",
      "Dep. Variable:             crashOccur   No. Observations:                 8760\n",
      "Model:                          Logit   Df Residuals:                     8754\n",
      "Method:                           MLE   Df Model:                            5\n",
      "Date:                Tue, 27 Nov 2018   Pseudo R-squ.:                 0.05406\n",
      "Time:                        22:39:34   Log-Likelihood:                -5363.9\n",
      "converged:                       True   LL-Null:                       -5670.4\n",
      "                                        LLR p-value:                3.074e-130\n",
      "==========================================================================================\n",
      "                             coef    std err          z      P>|z|      [0.025      0.975]\n",
      "------------------------------------------------------------------------------------------\n",
      "Air Temp (℉)               0.0082      0.001      6.900      0.000       0.006       0.010\n",
      "Precip (inches)            3.4572      1.320      2.619      0.009       0.870       6.044\n",
      "Wind Spd (mph)             0.0398      0.008      4.724      0.000       0.023       0.056\n",
      "RH (%)                    -0.0083      0.001    -10.469      0.000      -0.010      -0.007\n",
      "Leaf Wetness (minutes)     0.0049      0.001      3.606      0.000       0.002       0.008\n",
      "hours                      0.0551      0.003     16.477      0.000       0.049       0.062\n",
      "==========================================================================================\n",
      "Accuracy of logistic regression classifier on test set: 0.69\n",
      "10-fold cross validation average accuracy: 0.678\n",
      "             precision    recall  f1-score   support\n",
      "\n",
      "          0       0.59      0.30      0.40       906\n",
      "          1       0.71      0.89      0.79      1722\n",
      "\n",
      "avg / total       0.67      0.69      0.65      2628\n",
      "\n",
      "[[ 270  636]\n",
      " [ 187 1535]]\n"
     ]
    }
   ],
   "source": [
    "#logistic regression\n",
    "logit_model=sm.Logit(Y,X)\n",
    "result=logit_model.fit()\n",
    "print(result.summary())\n",
    "\n",
    "\n",
    "logreg = LogisticRegression()\n",
    "logreg.fit(X_train, y_train)\n",
    "y_pred = logreg.predict(X_test)\n",
    "print('Accuracy of logistic regression classifier on test set: {:.2f}'.format(logreg.score(X_test, y_test)))\n",
    "kfold = model_selection.KFold(n_splits=10, random_state=7)\n",
    "modelCV = LogisticRegression()\n",
    "scoring = 'accuracy'\n",
    "results = model_selection.cross_val_score(modelCV, X_train, y_train, cv=kfold, scoring=scoring)\n",
    "print(\"10-fold cross validation average accuracy: %.3f\" % (results.mean()))\n",
    "\n",
    "print(classification_report(y_test, y_pred))\n",
    "print(confusion_matrix(y_test, y_pred))\n"
   ]
  },
  {
   "cell_type": "code",
   "execution_count": 8,
   "metadata": {},
   "outputs": [
    {
     "name": "stdout",
     "output_type": "stream",
     "text": [
      "Accuracy of BernoulliNB: 0.6525875190258752\n",
      "10-fold cross validation average accuracy: 0.678\n",
      "             precision    recall  f1-score   support\n",
      "\n",
      "          0       0.49      0.15      0.23       906\n",
      "          1       0.67      0.92      0.78      1722\n",
      "\n",
      "avg / total       0.61      0.65      0.59      2628\n",
      "\n",
      "[[ 133  773]\n",
      " [ 140 1582]]\n"
     ]
    }
   ],
   "source": [
    "#BernoulliNB\n",
    "clf=BernoulliNB()\n",
    "clf.fit(X_train,y_train)\n",
    "y_pred=clf.predict(X_test)\n",
    "print(\"Accuracy of BernoulliNB:\",metrics.accuracy_score(y_test, y_pred))\n",
    "cvB = model_selection.cross_val_score(modelCV, X_train, y_train, cv=kfold, scoring=scoring)\n",
    "print(\"10-fold cross validation average accuracy: %.3f\" % (cvB.mean()))\n",
    "print(classification_report(y_test, y_pred))\n",
    "print(confusion_matrix(y_test, y_pred))\n"
   ]
  },
  {
   "cell_type": "code",
   "execution_count": 9,
   "metadata": {},
   "outputs": [
    {
     "name": "stdout",
     "output_type": "stream",
     "text": [
      "Accuracy of GaussianNB: 0.5654490106544902\n",
      "10-fold cross validation average accuracy: 0.582\n",
      "             precision    recall  f1-score   support\n",
      "\n",
      "          0       0.43      0.76      0.55       906\n",
      "          1       0.79      0.46      0.58      1722\n",
      "\n",
      "avg / total       0.66      0.57      0.57      2628\n",
      "\n",
      "[[691 215]\n",
      " [927 795]]\n"
     ]
    }
   ],
   "source": [
    "#GaussianNB\n",
    "clf2=GaussianNB()\n",
    "clf2.fit(X_train,y_train)\n",
    "y_pred=clf2.predict(X_test)\n",
    "print(\"Accuracy of GaussianNB:\",metrics.accuracy_score(y_test, y_pred))\n",
    "cvG = model_selection.cross_val_score(GaussianNB(), X_train, y_train, cv=kfold, scoring=scoring)\n",
    "print(\"10-fold cross validation average accuracy: %.3f\" % (cvG.mean()))\n",
    "print(classification_report(y_test, y_pred))\n",
    "print(confusion_matrix(y_test, y_pred))\n"
   ]
  },
  {
   "cell_type": "code",
   "execution_count": 10,
   "metadata": {},
   "outputs": [
    {
     "name": "stdout",
     "output_type": "stream",
     "text": [
      "Accuracy of MLPClassifier training data: 0.7209719504240052\n",
      "Accuracy of MLPClassifier test data: 0.7256468797564688\n",
      "Train Report\n",
      "             precision    recall  f1-score   support\n",
      "\n",
      "          0       0.65      0.44      0.53      2158\n",
      "          1       0.74      0.87      0.80      3974\n",
      "\n",
      "avg / total       0.71      0.72      0.71      6132\n",
      "\n",
      "Test Report\n",
      "             precision    recall  f1-score   support\n",
      "\n",
      "          0       0.66      0.43      0.52       906\n",
      "          1       0.75      0.88      0.81      1722\n",
      "\n",
      "avg / total       0.71      0.73      0.71      2628\n",
      "\n",
      "[[ 387  519]\n",
      " [ 202 1520]]\n",
      "10-fold cross validation average accuracy: 0.712\n"
     ]
    }
   ],
   "source": [
    "#MLP Classifier\n",
    "scaler = StandardScaler()\n",
    "scaler.fit(X_train)\n",
    "X_train = scaler.transform(X_train)\n",
    "X_test = scaler.transform(X_test)\n",
    "\n",
    "mlp = MLPClassifier()\n",
    "mlp.fit(X_train,y_train)\n",
    "\n",
    "predictions = mlp.predict(X_test)\n",
    "predictTrain = mlp.predict(X_train)\n",
    "probs =  mlp.predict_proba(X_test)\n",
    "\n",
    "\n",
    "print(\"Accuracy of MLPClassifier training data:\",metrics.accuracy_score(y_train, predictTrain))\n",
    "print(\"Accuracy of MLPClassifier test data:\",metrics.accuracy_score(y_test, predictions))\n",
    "\n",
    "print('Train Report')\n",
    "print(classification_report(y_train, predictTrain))\n",
    "\n",
    "print('Test Report')\n",
    "print(classification_report(y_test,predictions))\n",
    "\n",
    "cm = confusion_matrix(y_test, predictions)\n",
    "print(cm)\n",
    "cvMLP = model_selection.cross_val_score(MLPClassifier(), X_train, y_train, cv=kfold, scoring=scoring)\n",
    "print(\"10-fold cross validation average accuracy: %.3f\" % (cvMLP.mean()))"
   ]
  },
  {
   "cell_type": "code",
   "execution_count": 15,
   "metadata": {},
   "outputs": [
    {
     "data": {
      "text/plain": [
       "array([0.6795499 , 0.67791911, 0.67710372, 0.67824527, 0.68150685,\n",
       "       0.67775603, 0.67987606, 0.67824527, 0.67987606, 0.67906067,\n",
       "       0.67808219, 0.67694064, 0.67824527, 0.67791911, 0.67922374,\n",
       "       0.67840835, 0.66161122, 0.66226354, 0.6609589 , 0.66144814,\n",
       "       0.64807567, 0.64807567, 0.64807567, 0.64807567, 0.64807567,\n",
       "       0.64807567, 0.64807567, 0.64807567, 0.64807567, 0.64807567,\n",
       "       0.64807567, 0.64807567, 0.64807567, 0.64807567, 0.64807567,\n",
       "       0.64807567, 0.64807567, 0.64807567, 0.64807567, 0.64807567,\n",
       "       0.67710372, 0.67547293, 0.67612524, 0.67677756, 0.67677756,\n",
       "       0.67694064, 0.67694064, 0.67677756, 0.67661448, 0.67775603,\n",
       "       0.67579909, 0.67759295, 0.67286367, 0.67547293, 0.67498369,\n",
       "       0.66960209, 0.64807567, 0.64807567, 0.64807567, 0.64807567,\n",
       "       0.64807567, 0.64807567, 0.64807567, 0.64807567, 0.64807567,\n",
       "       0.64807567, 0.64807567, 0.64807567, 0.64807567, 0.64807567,\n",
       "       0.64807567, 0.64807567, 0.64807567, 0.64807567, 0.64807567,\n",
       "       0.64807567, 0.64807567, 0.64807567, 0.64807567, 0.64807567,\n",
       "       0.71852577, 0.71787345, 0.71656882, 0.67971298, 0.71787345,\n",
       "       0.72080887, 0.71966732, 0.69471624, 0.70955643, 0.7167319 ,\n",
       "       0.71868885, 0.67987606, 0.7105349 , 0.71347032, 0.71395956,\n",
       "       0.68052838, 0.66161122, 0.6609589 , 0.66307893, 0.65965427,\n",
       "       0.64807567, 0.64807567, 0.64807567, 0.64807567, 0.64807567,\n",
       "       0.64807567, 0.64807567, 0.64807567, 0.64807567, 0.64807567,\n",
       "       0.64807567, 0.64807567, 0.64807567, 0.64807567, 0.64807567,\n",
       "       0.64807567, 0.64807567, 0.64807567, 0.64807567, 0.64807567,\n",
       "       0.71298108, 0.71232877, 0.71135029, 0.71167645, 0.71102414,\n",
       "       0.71151337, 0.71118721, 0.71526419, 0.71265492, 0.71216569,\n",
       "       0.71037182, 0.7105349 , 0.71069798, 0.71102414, 0.70955643,\n",
       "       0.70923027, 0.66438356, 0.66503588, 0.6640574 , 0.66438356,\n",
       "       0.64807567, 0.64807567, 0.64807567, 0.64807567, 0.64807567,\n",
       "       0.64807567, 0.64807567, 0.64807567, 0.64807567, 0.64807567,\n",
       "       0.64807567, 0.64807567, 0.64807567, 0.64807567, 0.64807567,\n",
       "       0.64807567, 0.64807567, 0.64807567, 0.64807567, 0.64807567])"
      ]
     },
     "execution_count": 15,
     "metadata": {},
     "output_type": "execute_result"
    }
   ],
   "source": [
    "#MLPClassifier Grid Search - takes long time to run\n",
    "params = [ {'hidden_layer_sizes': [(100,), (50,), (25,), (200,)], 'activation': ['identity', 'logistic', 'tanh', 'relu'], 'alpha': [0.0001,0.001, 0.1, 1, 10, 100, 1000, 10000, 100000, 1000000]} ]\n",
    "\n",
    "grid = GridSearchCV(mlp, params, cv=4)            # cv: number of folds\n",
    "grid.fit(X_train, y_train)\n",
    "grid.best_estimator_\n",
    "scores = grid.cv_results_\n",
    "scores['mean_test_score'] \n"
   ]
  },
  {
   "cell_type": "code",
   "execution_count": 16,
   "metadata": {},
   "outputs": [
    {
     "name": "stdout",
     "output_type": "stream",
     "text": [
      "MLPClassifier(activation='tanh', alpha=0.001, batch_size='auto', beta_1=0.9,\n",
      "       beta_2=0.999, early_stopping=False, epsilon=1e-08,\n",
      "       hidden_layer_sizes=(50,), learning_rate='constant',\n",
      "       learning_rate_init=0.001, max_iter=200, momentum=0.9,\n",
      "       nesterovs_momentum=True, power_t=0.5, random_state=None,\n",
      "       shuffle=True, solver='adam', tol=0.0001, validation_fraction=0.1,\n",
      "       verbose=False, warm_start=False)\n"
     ]
    }
   ],
   "source": [
    "print(grid.best_estimator_)"
   ]
  },
  {
   "cell_type": "code",
   "execution_count": null,
   "metadata": {},
   "outputs": [],
   "source": []
  }
 ],
 "metadata": {
  "kernelspec": {
   "display_name": "Python 3",
   "language": "python",
   "name": "python3"
  },
  "language_info": {
   "codemirror_mode": {
    "name": "ipython",
    "version": 3
   },
   "file_extension": ".py",
   "mimetype": "text/x-python",
   "name": "python",
   "nbconvert_exporter": "python",
   "pygments_lexer": "ipython3",
   "version": "3.6.5"
  }
 },
 "nbformat": 4,
 "nbformat_minor": 2
}
