{
 "cells": [
  {
   "cell_type": "code",
   "execution_count": null,
   "metadata": {},
   "outputs": [],
   "source": [
    "#CS391Project\n",
    "#Charlie, Ben, Jenna"
   ]
  },
  {
   "cell_type": "code",
   "execution_count": 1,
   "metadata": {},
   "outputs": [
    {
     "name": "stderr",
     "output_type": "stream",
     "text": [
      "/anaconda3/lib/python3.6/site-packages/sklearn/cross_validation.py:41: DeprecationWarning: This module was deprecated in version 0.18 in favor of the model_selection module into which all the refactored classes and functions are moved. Also note that the interface of the new CV iterators are different from that of this module. This module will be removed in 0.20.\n",
      "  \"This module will be removed in 0.20.\", DeprecationWarning)\n"
     ]
    }
   ],
   "source": [
    "import pandas as pd\n",
    "import datetime as dt\n",
    "from sklearn.cross_validation import train_test_split\n",
    "from sklearn.ensemble import RandomForestClassifier\n",
    "from sklearn.metrics import accuracy_score\n",
    "from sklearn import metrics \n",
    "from sklearn.linear_model import LogisticRegression\n",
    "from sklearn import model_selection\n",
    "from sklearn.model_selection import cross_val_score\n",
    "from sklearn.metrics import classification_report\n",
    "from sklearn.metrics import confusion_matrix\n",
    "from sklearn.neural_network import MLPClassifier\n",
    "from sklearn.preprocessing import StandardScaler\n",
    "import statsmodels.api as sm\n",
    "from sklearn.naive_bayes import BernoulliNB\n",
    "from sklearn.naive_bayes import GaussianNB\n",
    "import seaborn as sns\n",
    "from sklearn.linear_model import LinearRegression\n",
    "import matplotlib.pyplot as plt   "
   ]
  },
  {
   "cell_type": "code",
   "execution_count": 2,
   "metadata": {},
   "outputs": [],
   "source": [
    "#Reading in CSV Files\n",
    "df = pd.read_csv('CrashMaryland.csv')\n",
    "dfW = pd.read_csv('Woodbine_2017_Crash.csv')"
   ]
  },
  {
   "cell_type": "code",
   "execution_count": 3,
   "metadata": {},
   "outputs": [],
   "source": [
    "#Setting cut-off dates for dataframe\n",
    "date2017 = dt.datetime(2017, 1, 1, 0,0,0)\n",
    "date2018 = dt.datetime(2017, 12, 31, 0,0,0)"
   ]
  },
  {
   "cell_type": "code",
   "execution_count": 4,
   "metadata": {},
   "outputs": [
    {
     "name": "stderr",
     "output_type": "stream",
     "text": [
      "/anaconda3/lib/python3.6/site-packages/pandas/core/indexing.py:189: SettingWithCopyWarning: \n",
      "A value is trying to be set on a copy of a slice from a DataFrame\n",
      "\n",
      "See the caveats in the documentation: http://pandas.pydata.org/pandas-docs/stable/indexing.html#indexing-view-versus-copy\n",
      "  self._setitem_with_indexer(indexer, value)\n"
     ]
    }
   ],
   "source": [
    "#start of data preprocessing\n",
    "df['date'] = pd.to_datetime(df['Crash Date/Time'])\n",
    "\n",
    "dfW['Date/Time'] = dfW['Date/Time'].map(lambda x: str(x)[:-3]) \n",
    "dfW['date'] = pd.to_datetime(dfW['Date/Time'])\n",
    "\n",
    "for i in range(len(df['date'])):\n",
    "    df['date'].loc[i]= df['date'].loc[i].replace(minute=0)"
   ]
  },
  {
   "cell_type": "code",
   "execution_count": 6,
   "metadata": {},
   "outputs": [],
   "source": [
    "#creating dataframe with dates only from 2017\n",
    "df201718 = df.loc[df['date'] >= date2017]\n",
    "mask = (df201718['date'] >= date2017) & (df201718['date'] <= date2018)\n",
    "df2017 = df201718.loc[mask] "
   ]
  },
  {
   "cell_type": "code",
   "execution_count": 7,
   "metadata": {},
   "outputs": [
    {
     "name": "stderr",
     "output_type": "stream",
     "text": [
      "/anaconda3/lib/python3.6/site-packages/ipykernel_launcher.py:2: SettingWithCopyWarning: \n",
      "A value is trying to be set on a copy of a slice from a DataFrame.\n",
      "Try using .loc[row_indexer,col_indexer] = value instead\n",
      "\n",
      "See the caveats in the documentation: http://pandas.pydata.org/pandas-docs/stable/indexing.html#indexing-view-versus-copy\n",
      "  \n",
      "/anaconda3/lib/python3.6/site-packages/ipykernel_launcher.py:3: SettingWithCopyWarning: \n",
      "A value is trying to be set on a copy of a slice from a DataFrame.\n",
      "Try using .loc[row_indexer,col_indexer] = value instead\n",
      "\n",
      "See the caveats in the documentation: http://pandas.pydata.org/pandas-docs/stable/indexing.html#indexing-view-versus-copy\n",
      "  This is separate from the ipykernel package so we can avoid doing imports until\n",
      "/anaconda3/lib/python3.6/site-packages/ipykernel_launcher.py:5: SettingWithCopyWarning: \n",
      "A value is trying to be set on a copy of a slice from a DataFrame.\n",
      "Try using .loc[row_indexer,col_indexer] = value instead\n",
      "\n",
      "See the caveats in the documentation: http://pandas.pydata.org/pandas-docs/stable/indexing.html#indexing-view-versus-copy\n",
      "  \"\"\"\n",
      "/anaconda3/lib/python3.6/site-packages/ipykernel_launcher.py:6: SettingWithCopyWarning: \n",
      "A value is trying to be set on a copy of a slice from a DataFrame.\n",
      "Try using .loc[row_indexer,col_indexer] = value instead\n",
      "\n",
      "See the caveats in the documentation: http://pandas.pydata.org/pandas-docs/stable/indexing.html#indexing-view-versus-copy\n",
      "  \n",
      "/anaconda3/lib/python3.6/site-packages/ipykernel_launcher.py:8: SettingWithCopyWarning: \n",
      "A value is trying to be set on a copy of a slice from a DataFrame.\n",
      "Try using .loc[row_indexer,col_indexer] = value instead\n",
      "\n",
      "See the caveats in the documentation: http://pandas.pydata.org/pandas-docs/stable/indexing.html#indexing-view-versus-copy\n",
      "  \n",
      "/anaconda3/lib/python3.6/site-packages/ipykernel_launcher.py:9: SettingWithCopyWarning: \n",
      "A value is trying to be set on a copy of a slice from a DataFrame.\n",
      "Try using .loc[row_indexer,col_indexer] = value instead\n",
      "\n",
      "See the caveats in the documentation: http://pandas.pydata.org/pandas-docs/stable/indexing.html#indexing-view-versus-copy\n",
      "  if __name__ == '__main__':\n"
     ]
    }
   ],
   "source": [
    "#Converting some useful catagorical features\n",
    "df2017['Weather'] = df2017['Weather'].astype('category')  \n",
    "df2017['weatherCat'] = df2017['Weather'].cat.codes\n",
    "\n",
    "df2017['Light'] = df2017['Light'].astype('category')  \n",
    "df2017['lightCat'] = df2017['Light'].cat.codes\n",
    "\n",
    "df2017['Surface Condition'] = df2017['Surface Condition'].astype('category')  \n",
    "df2017['surfaceConditionCat'] = df2017['Surface Condition'].cat.codes"
   ]
  },
  {
   "cell_type": "code",
   "execution_count": 8,
   "metadata": {},
   "outputs": [],
   "source": [
    "#Merging weather to 2017 crash data\n",
    "df2017W= pd.merge(df2017, dfW, on='date')"
   ]
  },
  {
   "cell_type": "code",
   "execution_count": 9,
   "metadata": {},
   "outputs": [],
   "source": [
    "#Dataframe with number of crashes at certain hour of day\n",
    "crashNum = df2017W['date'].value_counts().to_frame()\n",
    "dfCW = dfW\n",
    "dfCW.set_index('date', inplace = True)"
   ]
  },
  {
   "cell_type": "code",
   "execution_count": 10,
   "metadata": {},
   "outputs": [],
   "source": [
    "#Joining number of crashes with weather table\n",
    "dfCW = dfCW.join(crashNum, how = 'outer')\n",
    "dfCW.fillna(0, inplace = True)"
   ]
  },
  {
   "cell_type": "code",
   "execution_count": 11,
   "metadata": {},
   "outputs": [],
   "source": [
    "#creating column to show if a crash occured at a certain time\n",
    "dfCW['crashOccur'] = dfCW['date'] != 0\n",
    "dfCW.replace({True: 1, False: 0}, inplace=True)\n",
    "\n",
    "dfCW['hours'] = dfCW.index.hour\n",
    "dfCW.drop('Date/Time', axis = 1, inplace = True)\n",
    "\n",
    "dfCW.to_csv('crashWeather.csv')"
   ]
  },
  {
   "cell_type": "code",
   "execution_count": 12,
   "metadata": {},
   "outputs": [],
   "source": [
    "#Training and Splitting Data\n",
    "X = dfCW[['Air Temp (℉)', 'Precip (inches)', 'Wind Spd (mph)', 'RH (%)', 'Leaf Wetness (minutes)', 'hours']]\n",
    "Y = dfCW['crashOccur']\n",
    "\n",
    "Xl = dfCW[['Air Temp (℉)']]\n",
    "Yl = dfCW['date']\n",
    "\n",
    "X_train, X_test, y_train, y_test = train_test_split(X, Y, test_size=0.3)"
   ]
  },
  {
   "cell_type": "code",
   "execution_count": 13,
   "metadata": {},
   "outputs": [
    {
     "name": "stdout",
     "output_type": "stream",
     "text": [
      "Accuracy of Forest: 0.6727549467275494\n",
      "                        importance\n",
      "Air Temp (℉)              0.296858\n",
      "hours                     0.253201\n",
      "RH (%)                    0.209857\n",
      "Wind Spd (mph)            0.198637\n",
      "Leaf Wetness (minutes)    0.024489\n",
      "Precip (inches)           0.016959\n"
     ]
    }
   ],
   "source": [
    "#Random Forest Classifier \n",
    "clf=RandomForestClassifier()\n",
    "clf.fit(X_train,y_train)\n",
    "y_pred=clf.predict(X_test)\n",
    "print(\"Accuracy of Forest:\",metrics.accuracy_score(y_test, y_pred))\n",
    "feature_importances = pd.DataFrame(clf.feature_importances_, index = X_train.columns, columns=['importance']).sort_values('importance', ascending=False)\n",
    "print(feature_importances)"
   ]
  },
  {
   "cell_type": "code",
   "execution_count": 14,
   "metadata": {},
   "outputs": [
    {
     "name": "stdout",
     "output_type": "stream",
     "text": [
      "Optimization terminated successfully.\n",
      "         Current function value: 0.612314\n",
      "         Iterations 6\n",
      "                           Logit Regression Results                           \n",
      "==============================================================================\n",
      "Dep. Variable:             crashOccur   No. Observations:                 8760\n",
      "Model:                          Logit   Df Residuals:                     8754\n",
      "Method:                           MLE   Df Model:                            5\n",
      "Date:                Thu, 08 Nov 2018   Pseudo R-squ.:                 0.05406\n",
      "Time:                        18:52:52   Log-Likelihood:                -5363.9\n",
      "converged:                       True   LL-Null:                       -5670.4\n",
      "                                        LLR p-value:                3.074e-130\n",
      "==========================================================================================\n",
      "                             coef    std err          z      P>|z|      [0.025      0.975]\n",
      "------------------------------------------------------------------------------------------\n",
      "Air Temp (℉)               0.0082      0.001      6.900      0.000       0.006       0.010\n",
      "Precip (inches)            3.4572      1.320      2.619      0.009       0.870       6.044\n",
      "Wind Spd (mph)             0.0398      0.008      4.724      0.000       0.023       0.056\n",
      "RH (%)                    -0.0083      0.001    -10.469      0.000      -0.010      -0.007\n",
      "Leaf Wetness (minutes)     0.0049      0.001      3.606      0.000       0.002       0.008\n",
      "hours                      0.0551      0.003     16.477      0.000       0.049       0.062\n",
      "==========================================================================================\n",
      "Accuracy of logistic regression classifier on test set: 0.67\n",
      "10-fold cross validation average accuracy: 0.686\n",
      "             precision    recall  f1-score   support\n",
      "\n",
      "          0       0.61      0.26      0.37       957\n",
      "          1       0.68      0.90      0.78      1671\n",
      "\n",
      "avg / total       0.66      0.67      0.63      2628\n",
      "\n"
     ]
    }
   ],
   "source": [
    "#logistic regression\n",
    "logit_model=sm.Logit(Y,X)\n",
    "result=logit_model.fit()\n",
    "print(result.summary())\n",
    "\n",
    "\n",
    "logreg = LogisticRegression()\n",
    "logreg.fit(X_train, y_train)\n",
    "y_pred = logreg.predict(X_test)\n",
    "print('Accuracy of logistic regression classifier on test set: {:.2f}'.format(logreg.score(X_test, y_test)))\n",
    "kfold = model_selection.KFold(n_splits=10, random_state=7)\n",
    "modelCV = LogisticRegression()\n",
    "scoring = 'accuracy'\n",
    "results = model_selection.cross_val_score(modelCV, X_train, y_train, cv=kfold, scoring=scoring)\n",
    "print(\"10-fold cross validation average accuracy: %.3f\" % (results.mean()))\n",
    "\n",
    "print(classification_report(y_test, y_pred))"
   ]
  },
  {
   "cell_type": "code",
   "execution_count": 15,
   "metadata": {},
   "outputs": [
    {
     "name": "stdout",
     "output_type": "stream",
     "text": [
      "Accuracy of BernoulliNB: 0.6464992389649924\n"
     ]
    }
   ],
   "source": [
    "#BernoulliNB\n",
    "clf=BernoulliNB()\n",
    "clf.fit(X_train,y_train)\n",
    "y_pred=clf.predict(X_test)\n",
    "print(\"Accuracy of BernoulliNB:\",metrics.accuracy_score(y_test, y_pred))"
   ]
  },
  {
   "cell_type": "code",
   "execution_count": 16,
   "metadata": {},
   "outputs": [
    {
     "name": "stdout",
     "output_type": "stream",
     "text": [
      "Accuracy of GaussianNB: 0.6757990867579908\n"
     ]
    }
   ],
   "source": [
    "#GaussianNB\n",
    "clf2=GaussianNB()\n",
    "clf2.fit(X_train,y_train)\n",
    "y_pred=clf2.predict(X_test)\n",
    "print(\"Accuracy of GaussianNB:\",metrics.accuracy_score(y_test, y_pred))"
   ]
  },
  {
   "cell_type": "code",
   "execution_count": 17,
   "metadata": {},
   "outputs": [
    {
     "name": "stdout",
     "output_type": "stream",
     "text": [
      "Accuracy of MLPClassifier training data: 0.726027397260274\n",
      "Accuracy of MLPClassifier test data: 0.7264079147640792\n",
      "Train Report\n",
      "             precision    recall  f1-score   support\n",
      "\n",
      "          0       0.64      0.47      0.54      2107\n",
      "          1       0.76      0.86      0.80      4025\n",
      "\n",
      "avg / total       0.72      0.73      0.71      6132\n",
      "\n",
      "Test Report\n",
      "             precision    recall  f1-score   support\n",
      "\n",
      "          0       0.68      0.47      0.56       957\n",
      "          1       0.74      0.87      0.80      1671\n",
      "\n",
      "avg / total       0.72      0.73      0.71      2628\n",
      "\n",
      "[[ 453  504]\n",
      " [ 215 1456]]\n"
     ]
    }
   ],
   "source": [
    "#MLP Classifier\n",
    "scaler = StandardScaler()\n",
    "scaler.fit(X_train)\n",
    "X_train = scaler.transform(X_train)\n",
    "X_test = scaler.transform(X_test)\n",
    "\n",
    "mlp = MLPClassifier()\n",
    "mlp.fit(X_train,y_train)\n",
    "\n",
    "predictions = mlp.predict(X_test)\n",
    "predictTrain = mlp.predict(X_train)\n",
    "probs =  mlp.predict_proba(X_test)\n",
    "\n",
    "\n",
    "print(\"Accuracy of MLPClassifier training data:\",metrics.accuracy_score(y_train, predictTrain))\n",
    "print(\"Accuracy of MLPClassifier test data:\",metrics.accuracy_score(y_test, predictions))\n",
    "\n",
    "print('Train Report')\n",
    "print(classification_report(y_train, predictTrain))\n",
    "\n",
    "print('Test Report')\n",
    "print(classification_report(y_test,predictions))\n",
    "\n",
    "cm = confusion_matrix(y_test, predictions)\n",
    "print(cm)"
   ]
  },
  {
   "cell_type": "code",
   "execution_count": null,
   "metadata": {},
   "outputs": [],
   "source": []
  }
 ],
 "metadata": {
  "kernelspec": {
   "display_name": "Python 3",
   "language": "python",
   "name": "python3"
  },
  "language_info": {
   "codemirror_mode": {
    "name": "ipython",
    "version": 3
   },
   "file_extension": ".py",
   "mimetype": "text/x-python",
   "name": "python",
   "nbconvert_exporter": "python",
   "pygments_lexer": "ipython3",
   "version": "3.6.5"
  }
 },
 "nbformat": 4,
 "nbformat_minor": 2
}
